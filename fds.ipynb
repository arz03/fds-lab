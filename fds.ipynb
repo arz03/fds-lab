{
  "nbformat": 4,
  "nbformat_minor": 0,
  "metadata": {
    "colab": {
      "provenance": [],
      "include_colab_link": true
    },
    "kernelspec": {
      "name": "python3",
      "display_name": "Python 3"
    },
    "language_info": {
      "name": "python"
    }
  },
  "cells": [
    {
      "cell_type": "markdown",
      "metadata": {
        "id": "view-in-github",
        "colab_type": "text"
      },
      "source": [
        "<a href=\"https://colab.research.google.com/github/arz03/fds-lab/blob/main/fds.ipynb\" target=\"_parent\"><img src=\"https://colab.research.google.com/assets/colab-badge.svg\" alt=\"Open In Colab\"/></a>"
      ]
    },
    {
      "cell_type": "code",
      "source": [
        "import pandas as pd\n",
        "\n",
        "data = {'Name': ['arjun'],'Age': [20]}\n",
        "df = pd.DataFrame(data)\n",
        "print(df)\n",
        "print(df.shape)"
      ],
      "metadata": {
        "id": "YVwTdETZNIsu",
        "outputId": "99bd387b-c017-47ee-87db-f557bdd53462",
        "colab": {
          "base_uri": "https://localhost:8080/"
        }
      },
      "execution_count": 1,
      "outputs": [
        {
          "output_type": "stream",
          "name": "stdout",
          "text": [
            "    Name  Age\n",
            "0  arjun   20\n",
            "(1, 2)\n"
          ]
        }
      ]
    }
  ]
}