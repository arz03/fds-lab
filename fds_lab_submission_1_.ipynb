{
  "nbformat": 4,
  "nbformat_minor": 0,
  "metadata": {
    "colab": {
      "provenance": [],
      "authorship_tag": "ABX9TyMMYqA9sMEOAghKVZOnbNIZ",
      "include_colab_link": true
    },
    "kernelspec": {
      "name": "python3",
      "display_name": "Python 3"
    },
    "language_info": {
      "name": "python"
    }
  },
  "cells": [
    {
      "cell_type": "markdown",
      "metadata": {
        "id": "view-in-github",
        "colab_type": "text"
      },
      "source": [
        "<a href=\"https://colab.research.google.com/github/arz03/fds-lab/blob/main/fds_lab_submission_1_.ipynb\" target=\"_parent\"><img src=\"https://colab.research.google.com/assets/colab-badge.svg\" alt=\"Open In Colab\"/></a>"
      ]
    },
    {
      "cell_type": "markdown",
      "source": [
        "# lab file\n",
        "1. working with arrays. create array and explore numpy (shape, type of elements elements, size, dimensions)\n",
        "2. perform different array slicing methods\n",
        "3. creating dataframes (and its methods)"
      ],
      "metadata": {
        "id": "JElRv2kUH-gx"
      }
    },
    {
      "cell_type": "markdown",
      "source": [
        "1. working with arrays. create array and explore numpy (shape, type of elements elements, size, dimensions)"
      ],
      "metadata": {
        "id": "d71M_TAgIz44"
      }
    },
    {
      "cell_type": "code",
      "source": [
        "import numpy as np\n",
        "\n",
        "my_array = np.array([[1, 2, 3], [4, 5, 6], [7, 8, 9]]) # Create a NumPy array\n",
        "\n",
        "# Operations on the array\n",
        "print(\"Shape:\", my_array.shape)\n",
        "print(\"Data type:\", my_array.dtype)\n",
        "print(\"Size:\", my_array.size)\n",
        "print(\"Number of dimensions:\", my_array.ndim)\n"
      ],
      "metadata": {
        "colab": {
          "base_uri": "https://localhost:8080/"
        },
        "id": "RzQmUKsqKp8t",
        "outputId": "a746fbbc-1b8a-492a-e1e0-b9a469e97bd2"
      },
      "execution_count": null,
      "outputs": [
        {
          "output_type": "stream",
          "name": "stdout",
          "text": [
            "Shape: (3, 3)\n",
            "Data type: int64\n",
            "Size: 9\n",
            "Number of dimensions: 2\n"
          ]
        }
      ]
    },
    {
      "cell_type": "markdown",
      "source": [
        "2. perform different array slicing methods\n"
      ],
      "metadata": {
        "id": "qhZJ3oBVJfiv"
      }
    },
    {
      "cell_type": "code",
      "source": [
        "my_array = np.array([[1, 2, 3], [4, 5, 6], [7, 8, 9]])\n",
        "# Slice the array to get the first two rows and the first two columns\n",
        "print(\"\\nSlicing the first two rows and columns:\")\n",
        "print(my_array[:2, :2])\n",
        "\n",
        "# Slice the array to get the last row\n",
        "print(\"\\nSlicing the last row:\")\n",
        "print(my_array[-1, :])\n",
        "\n",
        "# Slice the array to get the second column\n",
        "print(\"\\nSlicing the second column:\")\n",
        "print(my_array[:, 1])\n",
        "# Slice with a step\n",
        "print(\"\\nSlicing with a step:\")\n",
        "print(my_array[::2, ::2])"
      ],
      "metadata": {
        "colab": {
          "base_uri": "https://localhost:8080/"
        },
        "id": "LVGFGt39KdLq",
        "outputId": "5f998fbb-35a0-4fdc-bb28-d17324103fe0"
      },
      "execution_count": null,
      "outputs": [
        {
          "output_type": "stream",
          "name": "stdout",
          "text": [
            "\n",
            "Slicing the first two rows and columns:\n",
            "[[1 2]\n",
            " [4 5]]\n",
            "\n",
            "Slicing the last row:\n",
            "[7 8 9]\n",
            "\n",
            "Slicing the second column:\n",
            "[2 5 8]\n",
            "\n",
            "Slicing with a step:\n",
            "[[1 3]\n",
            " [7 9]]\n"
          ]
        }
      ]
    },
    {
      "cell_type": "markdown",
      "source": [
        "3. creating dataframes (and its methods)"
      ],
      "metadata": {
        "id": "qytS5sVQKzj5"
      }
    },
    {
      "cell_type": "code",
      "source": [
        "import pandas as pd\n",
        "students = [\n",
        "    ('Anuj',25,'Delhi',35000),\n",
        "    ('Ashvin',24,'Bhopal',45000),\n",
        "    ('Arjun',25,'Delhi',65000),\n",
        "    ('Aditya',23,'Indore',35000),\n",
        "    ('Manthan',25,'Bombay', 80000),\n",
        "    ('Mayank',24,'Chennai',55000),\n",
        "    ('Vyomesh',26,'Bhopal',30000)]\n",
        "df = pd.DataFrame(students, columns = ['Name','Age','City','Fee'])\n",
        "print(df)\n",
        "print('\\nselect column by index: \\'City\\', \\'Age\\', \\'Fee\\'')\n",
        "result1 = df[['City', 'Age', 'Fee']]\n",
        "print(result1)\n",
        "print('\\nSelecting column by index with condition : City==Bhopal')\n",
        "city = df[df['City']=='Bhopal']\n",
        "print(city)\n",
        "print('\\nChanging DF index to \\'City\\' with set_index() method')\n",
        "df.set_index(\"City\", inplace=True)\n",
        "print(df)\n",
        "print('\\nSelecting rows using \\'loc\\' method where index = Bhopal, Bombay')\n",
        "result2 = df.loc[[\"Bhopal\",\"Bombay\"]]\n",
        "print(result2)"
      ],
      "metadata": {
        "colab": {
          "base_uri": "https://localhost:8080/"
        },
        "id": "G5ks1SnpK3Th",
        "outputId": "2961f310-2f31-4d50-e97a-d141b749417c"
      },
      "execution_count": null,
      "outputs": [
        {
          "output_type": "stream",
          "name": "stdout",
          "text": [
            "      Name  Age     City    Fee\n",
            "0     Anuj   25    Delhi  35000\n",
            "1   Ashvin   24   Bombay  45000\n",
            "2    Arjun   25    Delhi  65000\n",
            "3   Aditya   23   Indore  35000\n",
            "4  Manthan   25   Bhopal  80000\n",
            "5   Mayank   24  Chennai  55000\n",
            "6  Vyomesh   26   Bhopal  30000\n",
            "\n",
            "select column by index: 'City', 'Age', 'Salary'\n",
            "      City  Age    Fee\n",
            "0    Delhi   25  35000\n",
            "1   Bombay   24  45000\n",
            "2    Delhi   25  65000\n",
            "3   Indore   23  35000\n",
            "4   Bhopal   25  80000\n",
            "5  Chennai   24  55000\n",
            "6   Bhopal   26  30000\n",
            "\n",
            "Selecting column by index with condition : City==Bhopal\n",
            "      Name  Age    City    Fee\n",
            "4  Manthan   25  Bhopal  80000\n",
            "6  Vyomesh   26  Bhopal  30000\n",
            "\n",
            "Changing DF index to 'City' with set_index() method\n",
            "            Name  Age    Fee\n",
            "City                        \n",
            "Delhi       Anuj   25  35000\n",
            "Bombay    Ashvin   24  45000\n",
            "Delhi      Arjun   25  65000\n",
            "Indore    Aditya   23  35000\n",
            "Bhopal   Manthan   25  80000\n",
            "Chennai   Mayank   24  55000\n",
            "Bhopal   Vyomesh   26  30000\n",
            "\n",
            "Selecting rows using 'loc' method where index = Bhopal, Bombay\n",
            "           Name  Age    Fee\n",
            "City                       \n",
            "Bhopal  Manthan   25  80000\n",
            "Bhopal  Vyomesh   26  30000\n",
            "Bombay   Ashvin   24  45000\n"
          ]
        }
      ]
    }
  ]
}