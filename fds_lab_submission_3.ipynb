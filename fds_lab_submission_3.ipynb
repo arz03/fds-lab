{
  "nbformat": 4,
  "nbformat_minor": 0,
  "metadata": {
    "colab": {
      "provenance": [],
      "authorship_tag": "ABX9TyNHhPyZkNd/M56cWXtgZewh",
      "include_colab_link": true
    },
    "kernelspec": {
      "name": "python3",
      "display_name": "Python 3"
    },
    "language_info": {
      "name": "python"
    }
  },
  "cells": [
    {
      "cell_type": "markdown",
      "metadata": {
        "id": "view-in-github",
        "colab_type": "text"
      },
      "source": [
        "<a href=\"https://colab.research.google.com/github/arz03/fds-lab/blob/main/fds_lab_submission_3.ipynb\" target=\"_parent\"><img src=\"https://colab.research.google.com/assets/colab-badge.svg\" alt=\"Open In Colab\"/></a>"
      ]
    },
    {
      "cell_type": "markdown",
      "source": [
        "Exp-5 Develop program for Variability"
      ],
      "metadata": {
        "id": "c2pvA2bNpvE3"
      }
    },
    {
      "cell_type": "code",
      "execution_count": 4,
      "metadata": {
        "colab": {
          "base_uri": "https://localhost:8080/"
        },
        "id": "a5wa-_uvpmCV",
        "outputId": "df70304d-770a-4be5-ebcd-a777bba1b239"
      },
      "outputs": [
        {
          "output_type": "stream",
          "name": "stdout",
          "text": [
            "Variance of Sample1 is 15.80952380952381 \n",
            "Variance of Sample2 is 3.5 \n",
            "Variance of Sample3 is 61.125 \n",
            "Variance of Sample4 is 1/45 \n",
            "Variance of Sample5 is 0.17613000000000006 \n"
          ]
        }
      ],
      "source": [
        "# Python code to demonstrate variance()\n",
        "# function on varying range of data-types\n",
        "# importing statistics module\n",
        "from statistics import variance\n",
        "# importing fractions as parameter values\n",
        "from fractions import Fraction as fr\n",
        "# tuple of a set of positive integers\n",
        "# numbers are spread apart but not very much\n",
        "sample1 = (1, 2, 5, 4, 8, 9, 12)\n",
        "# tuple of a set of negative integers\n",
        "sample2 = (-2, -4, -3, -1, -5, -6)\n",
        "# tuple of a set of positive and negative numbers\n",
        "# data-points are spread apart considerably\n",
        "sample3 = (-9, -1, -0, 2, 1, 3, 4, 19)\n",
        "# tuple of a set of fractional numbers\n",
        "sample4 = (fr(1, 2), fr(2, 3), fr(3, 4), fr(5, 6), fr(7, 8))\n",
        "\n",
        "# tuple of a set of floating point values\n",
        "sample5 = (1.23, 1.45, 2.1, 2.2, 1.9)\n",
        "# Print the variance of each samples\n",
        "print(\"Variance of Sample1 is % s \" %(variance(sample1)))\n",
        "print(\"Variance of Sample2 is % s \" %(variance(sample2)))\n",
        "print(\"Variance of Sample3 is % s \" %(variance(sample3)))\n",
        "print(\"Variance of Sample4 is % s \" %(variance(sample4)))\n",
        "print(\"Variance of Sample5 is % s \" %(variance(sample5)))"
      ]
    }
  ]
}